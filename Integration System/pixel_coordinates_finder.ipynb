{
 "cells": [
  {
   "cell_type": "code",
   "execution_count": 1,
   "metadata": {},
   "outputs": [
    {
     "name": "stdout",
     "output_type": "stream",
     "text": [
      "point: 1   201   262\n",
      "point: 2   292   332\n"
     ]
    },
    {
     "ename": "KeyboardInterrupt",
     "evalue": "",
     "output_type": "error",
     "traceback": [
      "\u001b[0;31m---------------------------------------------------------------------------\u001b[0m",
      "\u001b[0;31mKeyboardInterrupt\u001b[0m                         Traceback (most recent call last)",
      "\u001b[1;32m/Users/cjbertumen/Desktop/SISS-Cashierless-Technology/HPE_V4/Ems Location Threshold Assignment from CJ/pixel_coordinates_finder.ipynb Cell 1\u001b[0m line \u001b[0;36m8\n\u001b[1;32m      <a href='vscode-notebook-cell:/Users/cjbertumen/Desktop/SISS-Cashierless-Technology/HPE_V4/Ems%20Location%20Threshold%20Assignment%20from%20CJ/pixel_coordinates_finder.ipynb#W0sZmlsZQ%3D%3D?line=3'>4</a>\u001b[0m count \u001b[39m=\u001b[39m \u001b[39m0\u001b[39m\n\u001b[1;32m      <a href='vscode-notebook-cell:/Users/cjbertumen/Desktop/SISS-Cashierless-Technology/HPE_V4/Ems%20Location%20Threshold%20Assignment%20from%20CJ/pixel_coordinates_finder.ipynb#W0sZmlsZQ%3D%3D?line=5'>6</a>\u001b[0m \u001b[39m# function to display the coordinates of\u001b[39;00m\n\u001b[1;32m      <a href='vscode-notebook-cell:/Users/cjbertumen/Desktop/SISS-Cashierless-Technology/HPE_V4/Ems%20Location%20Threshold%20Assignment%20from%20CJ/pixel_coordinates_finder.ipynb#W0sZmlsZQ%3D%3D?line=6'>7</a>\u001b[0m \u001b[39m# of the points clicked on the image \u001b[39;00m\n\u001b[0;32m----> <a href='vscode-notebook-cell:/Users/cjbertumen/Desktop/SISS-Cashierless-Technology/HPE_V4/Ems%20Location%20Threshold%20Assignment%20from%20CJ/pixel_coordinates_finder.ipynb#W0sZmlsZQ%3D%3D?line=7'>8</a>\u001b[0m \u001b[39mdef\u001b[39;00m \u001b[39mclick_event\u001b[39m(event, x, y, flags, params):  \n\u001b[1;32m      <a href='vscode-notebook-cell:/Users/cjbertumen/Desktop/SISS-Cashierless-Technology/HPE_V4/Ems%20Location%20Threshold%20Assignment%20from%20CJ/pixel_coordinates_finder.ipynb#W0sZmlsZQ%3D%3D?line=8'>9</a>\u001b[0m     \u001b[39m# checking for left mouse clicks\u001b[39;00m\n\u001b[1;32m     <a href='vscode-notebook-cell:/Users/cjbertumen/Desktop/SISS-Cashierless-Technology/HPE_V4/Ems%20Location%20Threshold%20Assignment%20from%20CJ/pixel_coordinates_finder.ipynb#W0sZmlsZQ%3D%3D?line=9'>10</a>\u001b[0m     \u001b[39mif\u001b[39;00m event \u001b[39m==\u001b[39m cv2\u001b[39m.\u001b[39mEVENT_LBUTTONDOWN:\n\u001b[1;32m     <a href='vscode-notebook-cell:/Users/cjbertumen/Desktop/SISS-Cashierless-Technology/HPE_V4/Ems%20Location%20Threshold%20Assignment%20from%20CJ/pixel_coordinates_finder.ipynb#W0sZmlsZQ%3D%3D?line=10'>11</a>\u001b[0m   \n\u001b[1;32m     <a href='vscode-notebook-cell:/Users/cjbertumen/Desktop/SISS-Cashierless-Technology/HPE_V4/Ems%20Location%20Threshold%20Assignment%20from%20CJ/pixel_coordinates_finder.ipynb#W0sZmlsZQ%3D%3D?line=11'>12</a>\u001b[0m         \u001b[39m# displaying the coordinates\u001b[39;00m\n\u001b[1;32m     <a href='vscode-notebook-cell:/Users/cjbertumen/Desktop/SISS-Cashierless-Technology/HPE_V4/Ems%20Location%20Threshold%20Assignment%20from%20CJ/pixel_coordinates_finder.ipynb#W0sZmlsZQ%3D%3D?line=12'>13</a>\u001b[0m         \u001b[39m# on the Shell\u001b[39;00m\n\u001b[1;32m     <a href='vscode-notebook-cell:/Users/cjbertumen/Desktop/SISS-Cashierless-Technology/HPE_V4/Ems%20Location%20Threshold%20Assignment%20from%20CJ/pixel_coordinates_finder.ipynb#W0sZmlsZQ%3D%3D?line=13'>14</a>\u001b[0m         \u001b[39mglobal\u001b[39;00m count\n",
      "\u001b[0;31mKeyboardInterrupt\u001b[0m: "
     ]
    }
   ],
   "source": [
    "# importing the module\n",
    "import cv2\n",
    "\n",
    "count = 0\n",
    "\n",
    "# function to display the coordinates of\n",
    "# of the points clicked on the image \n",
    "def click_event(event, x, y, flags, params):  \n",
    "    # checking for left mouse clicks\n",
    "    if event == cv2.EVENT_LBUTTONDOWN:\n",
    "  \n",
    "        # displaying the coordinates\n",
    "        # on the Shell\n",
    "        global count\n",
    "        count += 1\n",
    "        str(count)\n",
    "        print(f\"point: {str(count)}\",' ',x, ' ', y)\n",
    "  \n",
    "        # displaying the coordinates\n",
    "        # on the image window\n",
    "        font = cv2.FONT_HERSHEY_SIMPLEX\n",
    "\n",
    "        ## Temporarily comment coordinates point because its overlapping\n",
    "        # cv2.putText(img, str(x) + ',' +\n",
    "        #             str(y), (x,y), font,\n",
    "        #             1, (255, 0, 0), 2)\n",
    "        cv2.circle(img, (x,y), radius=5, color=(255,0,0), thickness=4)\n",
    "        cv2.putText(img, f\"point: {str(count)}\", (x,y-10), font,\n",
    "                    0.5, (255, 0, 0), 2)\n",
    "        cv2.imshow('image', img)\n",
    "  \n",
    "    # checking for right mouse clicks     \n",
    "    if event==cv2.EVENT_RBUTTONDOWN:\n",
    "  \n",
    "        # displaying the coordinates\n",
    "        # on the Shell\n",
    "        # print(x, ' ', y)\n",
    "        # displaying the coordinates\n",
    "        # on the image window\n",
    "        font = cv2.FONT_HERSHEY_SIMPLEX\n",
    "        cv2.circle(img, (x,y), radius=5, color=(0,0,255), thickness=4)        \n",
    "        cv2.imshow('image', img)\n",
    "  \n",
    "# driver function\n",
    "if __name__==\"__main__\":\n",
    "  \n",
    "    # reading the image\n",
    "    # img = cv2.imread('./extracted_images/image1.jpg', 1)\n",
    "    img = cv2.imread('/Users/cjbertumen/output_frame1.jpg', 1)\n",
    "  \n",
    "    # displaying the image\n",
    "    cv2.imshow('image', img)\n",
    "  \n",
    "    # setting mouse handler for the image\n",
    "    # and calling the click_event() function\n",
    "    cv2.setMouseCallback('image', click_event)\n",
    "  \n",
    "    # wait for a key to be pressed to exit\n",
    "    cv2.waitKey(0)\n",
    "  \n",
    "    # close the window\n",
    "    cv2.destroyAllWindows()"
   ]
  },
  {
   "cell_type": "code",
   "execution_count": null,
   "metadata": {},
   "outputs": [
    {
     "ename": "NameError",
     "evalue": "name 'point2' is not defined",
     "output_type": "error",
     "traceback": [
      "\u001b[0;31m---------------------------------------------------------------------------\u001b[0m",
      "\u001b[0;31mNameError\u001b[0m                                 Traceback (most recent call last)",
      "\u001b[1;32m/Users/cjbertumen/Desktop/SISS-Cashierless-Technology/HPE_V4/Ems Location Threshold Assignment from CJ/pixel_coordinates_finder.ipynb Cell 2\u001b[0m line \u001b[0;36m2\n\u001b[1;32m      <a href='vscode-notebook-cell:/Users/cjbertumen/Desktop/SISS-Cashierless-Technology/HPE_V4/Ems%20Location%20Threshold%20Assignment%20from%20CJ/pixel_coordinates_finder.ipynb#W1sZmlsZQ%3D%3D?line=0'>1</a>\u001b[0m \u001b[39m## New Latest Results: 4:57pm\u001b[39;00m\n\u001b[1;32m      <a href='vscode-notebook-cell:/Users/cjbertumen/Desktop/SISS-Cashierless-Technology/HPE_V4/Ems%20Location%20Threshold%20Assignment%20from%20CJ/pixel_coordinates_finder.ipynb#W1sZmlsZQ%3D%3D?line=1'>2</a>\u001b[0m \u001b[39m# point: 1   631   174\u001b[39;00m\n\u001b[1;32m      <a href='vscode-notebook-cell:/Users/cjbertumen/Desktop/SISS-Cashierless-Technology/HPE_V4/Ems%20Location%20Threshold%20Assignment%20from%20CJ/pixel_coordinates_finder.ipynb#W1sZmlsZQ%3D%3D?line=2'>3</a>\u001b[0m \u001b[39m# point: 2   630   198\u001b[39;00m\n\u001b[0;32m   (...)\u001b[0m\n\u001b[1;32m     <a href='vscode-notebook-cell:/Users/cjbertumen/Desktop/SISS-Cashierless-Technology/HPE_V4/Ems%20Location%20Threshold%20Assignment%20from%20CJ/pixel_coordinates_finder.ipynb#W1sZmlsZQ%3D%3D?line=21'>22</a>\u001b[0m \u001b[39m## Line for Shelf Edge Middle; Top to Bottom -> point 2 and 4; Horizontal Line\u001b[39;00m\n\u001b[1;32m     <a href='vscode-notebook-cell:/Users/cjbertumen/Desktop/SISS-Cashierless-Technology/HPE_V4/Ems%20Location%20Threshold%20Assignment%20from%20CJ/pixel_coordinates_finder.ipynb#W1sZmlsZQ%3D%3D?line=22'>23</a>\u001b[0m \u001b[39m# line_for_shelf_edge = tuple(map(lambda i,j: round((i-j)/2), point2, point4))\u001b[39;00m\n\u001b[0;32m---> <a href='vscode-notebook-cell:/Users/cjbertumen/Desktop/SISS-Cashierless-Technology/HPE_V4/Ems%20Location%20Threshold%20Assignment%20from%20CJ/pixel_coordinates_finder.ipynb#W1sZmlsZQ%3D%3D?line=23'>24</a>\u001b[0m line_for_shelf_edge_increment_x \u001b[39m=\u001b[39m (\u001b[39mabs\u001b[39m(point2[\u001b[39m0\u001b[39m]\u001b[39m-\u001b[39mpoint4[\u001b[39m0\u001b[39m])\u001b[39m/\u001b[39m\u001b[39m3\u001b[39m)\n\u001b[1;32m     <a href='vscode-notebook-cell:/Users/cjbertumen/Desktop/SISS-Cashierless-Technology/HPE_V4/Ems%20Location%20Threshold%20Assignment%20from%20CJ/pixel_coordinates_finder.ipynb#W1sZmlsZQ%3D%3D?line=24'>25</a>\u001b[0m line_for_shelf_edge_increment_y \u001b[39m=\u001b[39m (\u001b[39mabs\u001b[39m(point2[\u001b[39m1\u001b[39m]\u001b[39m-\u001b[39mpoint4[\u001b[39m1\u001b[39m])\u001b[39m/\u001b[39m\u001b[39m3\u001b[39m)\n\u001b[1;32m     <a href='vscode-notebook-cell:/Users/cjbertumen/Desktop/SISS-Cashierless-Technology/HPE_V4/Ems%20Location%20Threshold%20Assignment%20from%20CJ/pixel_coordinates_finder.ipynb#W1sZmlsZQ%3D%3D?line=25'>26</a>\u001b[0m weight3_line_to_weight2_line \u001b[39m=\u001b[39m (point4[\u001b[39m0\u001b[39m]\u001b[39m+\u001b[39mline_for_shelf_edge_increment_x),(point4[\u001b[39m1\u001b[39m]\u001b[39m+\u001b[39mline_for_shelf_edge_increment_y)\n",
      "\u001b[0;31mNameError\u001b[0m: name 'point2' is not defined"
     ]
    }
   ],
   "source": [
    "## New Latest Results: 4:57pm\n",
    "# point: 1   631   174\n",
    "# point: 2   630   198\n",
    "# point: 3   628   233\n",
    "# point: 4   729   187\n",
    "# point: 5   730   215\n",
    "# point: 6   736   239\n",
    "# point: 7   625   319\n",
    "# point: 8   624   348\n",
    "# point: 9   625   385\n",
    "# point: 10   721   323\n",
    "# point: 11   724   363\n",
    "# point: 12   727   399\n",
    "\n",
    "## Based from Earlier Results || First Results\n",
    "# point1 = (864,267)\n",
    "# point2 = (746,263)\n",
    "# point3 = (859,405)\n",
    "# point4 = (691,397)\n",
    "# point5 = (725,316)\n",
    "\n",
    "## Line for Shelf Edge Middle; Top to Bottom -> point 2 and 4; Horizontal Line\n",
    "# line_for_shelf_edge = tuple(map(lambda i,j: round((i-j)/2), point2, point4))\n",
    "line_for_shelf_edge_increment_x = (abs(point2[0]-point4[0])/3)\n",
    "line_for_shelf_edge_increment_y = (abs(point2[1]-point4[1])/3)\n",
    "weight3_line_to_weight2_line = (point4[0]+line_for_shelf_edge_increment_x),(point4[1]+line_for_shelf_edge_increment_y)\n",
    "weight2_line_to_weight1_line = (weight3_line_to_weight2_line[0]+line_for_shelf_edge_increment_x,weight3_line_to_weight2_line[1]+line_for_shelf_edge_increment_y)\n",
    "\n",
    "\n",
    "## Line for middle - Upper: Point 1 and Point 2 && Point 3 and point 4; Vertical Line\n",
    "# line_for_middle_shelf_edge = int(())\n"
   ]
  },
  {
   "cell_type": "code",
   "execution_count": null,
   "metadata": {},
   "outputs": [
    {
     "name": "stdout",
     "output_type": "stream",
     "text": [
      "weight3_line_to_weight2_line: (709.3333333333334, 441.6666666666667), weight2_line_to_weight1_line: (727.6666666666667, 486.33333333333337)\n"
     ]
    }
   ],
   "source": [
    "print(f\"weight3_line_to_weight2_line: {weight3_line_to_weight2_line}, weight2_line_to_weight1_line: {weight2_line_to_weight1_line}\")"
   ]
  },
  {
   "cell_type": "code",
   "execution_count": null,
   "metadata": {},
   "outputs": [
    {
     "data": {
      "text/plain": [
       "55.0"
      ]
     },
     "execution_count": 4,
     "metadata": {},
     "output_type": "execute_result"
    }
   ],
   "source": [
    "# print(f\"{point2} {point4}\")\n",
    "line_for_shelf_edge_increment_x*3"
   ]
  },
  {
   "cell_type": "code",
   "execution_count": null,
   "metadata": {},
   "outputs": [
    {
     "data": {
      "text/plain": [
       "55"
      ]
     },
     "execution_count": 5,
     "metadata": {},
     "output_type": "execute_result"
    }
   ],
   "source": [
    "746-691"
   ]
  },
  {
   "cell_type": "code",
   "execution_count": null,
   "metadata": {},
   "outputs": [
    {
     "data": {
      "text/plain": [
       "134"
      ]
     },
     "execution_count": 6,
     "metadata": {},
     "output_type": "execute_result"
    }
   ],
   "source": [
    "397-263"
   ]
  },
  {
   "cell_type": "code",
   "execution_count": null,
   "metadata": {},
   "outputs": [
    {
     "data": {
      "text/plain": [
       "691.00001"
      ]
     },
     "execution_count": 7,
     "metadata": {},
     "output_type": "execute_result"
    }
   ],
   "source": [
    "746-(18.33333*3)"
   ]
  },
  {
   "cell_type": "code",
   "execution_count": null,
   "metadata": {},
   "outputs": [],
   "source": []
  },
  {
   "cell_type": "code",
   "execution_count": null,
   "metadata": {},
   "outputs": [],
   "source": []
  }
 ],
 "metadata": {
  "kernelspec": {
   "display_name": "base",
   "language": "python",
   "name": "python3"
  },
  "language_info": {
   "codemirror_mode": {
    "name": "ipython",
    "version": 3
   },
   "file_extension": ".py",
   "mimetype": "text/x-python",
   "name": "python",
   "nbconvert_exporter": "python",
   "pygments_lexer": "ipython3",
   "version": "3.9.6"
  },
  "orig_nbformat": 4
 },
 "nbformat": 4,
 "nbformat_minor": 2
}
